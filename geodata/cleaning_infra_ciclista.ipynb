{
 "cells": [
  {
   "cell_type": "markdown",
   "metadata": {},
   "source": [
    "## Clean data from the KML bicis infraestructure\n",
    "---\n",
    "\n",
    "This notebook cleans these datasets provided by: enbicipormadrid.es with a KML file that needs to be parsed in qGIS.\n",
    "\n",
    "That file outputs several geopackages, one for each type of ciclyst type.\n"
   ]
  },
  {
   "cell_type": "code",
   "execution_count": 1,
   "metadata": {},
   "outputs": [
    {
     "name": "stdout",
     "output_type": "stream",
     "text": [
      "/home/laura/Documents/git/SatAi_BicycleFriendlyPath/geodata\n"
     ]
    }
   ],
   "source": [
    "import geopandas as gpd\n",
    "import pandas as pd\n",
    "\n",
    "%matplotlib inline\n",
    "\n",
    "!cd ..\n",
    "!pwd\n"
   ]
  },
  {
   "cell_type": "markdown",
   "metadata": {},
   "source": [
    "----"
   ]
  },
  {
   "cell_type": "code",
   "execution_count": 4,
   "metadata": {},
   "outputs": [
    {
     "data": {
      "text/html": [
       "<div>\n",
       "<style scoped>\n",
       "    .dataframe tbody tr th:only-of-type {\n",
       "        vertical-align: middle;\n",
       "    }\n",
       "\n",
       "    .dataframe tbody tr th {\n",
       "        vertical-align: top;\n",
       "    }\n",
       "\n",
       "    .dataframe thead th {\n",
       "        text-align: right;\n",
       "    }\n",
       "</style>\n",
       "<table border=\"1\" class=\"dataframe\">\n",
       "  <thead>\n",
       "    <tr style=\"text-align: right;\">\n",
       "      <th></th>\n",
       "      <th>Name</th>\n",
       "      <th>geometry</th>\n",
       "    </tr>\n",
       "  </thead>\n",
       "  <tbody>\n",
       "    <tr>\n",
       "      <th>0</th>\n",
       "      <td>Ciclocarril</td>\n",
       "      <td>MULTIPOLYGON (((-3.62518 40.36686, -3.62519 40...</td>\n",
       "    </tr>\n",
       "    <tr>\n",
       "      <th>0</th>\n",
       "      <td>Calle 20</td>\n",
       "      <td>MULTIPOLYGON (((-3.62332 40.37901, -3.62259 40...</td>\n",
       "    </tr>\n",
       "    <tr>\n",
       "      <th>0</th>\n",
       "      <td>Itinerario recomendado</td>\n",
       "      <td>MULTIPOLYGON (((-3.45667 40.30889, -3.45667 40...</td>\n",
       "    </tr>\n",
       "    <tr>\n",
       "      <th>0</th>\n",
       "      <td>Carril bici unidireccional en calzada</td>\n",
       "      <td>MULTIPOLYGON (((-3.47234 40.23493, -3.47263 40...</td>\n",
       "    </tr>\n",
       "    <tr>\n",
       "      <th>0</th>\n",
       "      <td>Senda peatonal ciclable</td>\n",
       "      <td>MULTIPOLYGON (((-3.45627 40.29878, -3.45312 40...</td>\n",
       "    </tr>\n",
       "  </tbody>\n",
       "</table>\n",
       "</div>"
      ],
      "text/plain": [
       "                                    Name  \\\n",
       "0                            Ciclocarril   \n",
       "0                               Calle 20   \n",
       "0                 Itinerario recomendado   \n",
       "0  Carril bici unidireccional en calzada   \n",
       "0                Senda peatonal ciclable   \n",
       "\n",
       "                                            geometry  \n",
       "0  MULTIPOLYGON (((-3.62518 40.36686, -3.62519 40...  \n",
       "0  MULTIPOLYGON (((-3.62332 40.37901, -3.62259 40...  \n",
       "0  MULTIPOLYGON (((-3.45667 40.30889, -3.45667 40...  \n",
       "0  MULTIPOLYGON (((-3.47234 40.23493, -3.47263 40...  \n",
       "0  MULTIPOLYGON (((-3.45627 40.29878, -3.45312 40...  "
      ]
     },
     "execution_count": 4,
     "metadata": {},
     "output_type": "execute_result"
    }
   ],
   "source": [
    "geof = []\n",
    "\n",
    "for file in ['bici_30kmh', 'bici_doblesentido_permitido', 'bici_itinerario_facil', 'bici_viaciclista_calzada', 'bici_viaciclista_peatonal', 'bivi_ciclocarrilbus']:\n",
    "    geof.append(gpd.read_file(f\"../data/bici_data/{file}.gpkg\"))\n",
    "    assert geof[-1].crs.name == 'WGS 84'\n",
    "\n",
    "\n",
    "gdf = pd.concat(geof, axis = 0)[['Name', 'geometry']]\n",
    "gdf.head()"
   ]
  },
  {
   "cell_type": "code",
   "execution_count": 5,
   "metadata": {},
   "outputs": [
    {
     "data": {
      "text/plain": [
       "geopandas.geodataframe.GeoDataFrame"
      ]
     },
     "execution_count": 5,
     "metadata": {},
     "output_type": "execute_result"
    }
   ],
   "source": [
    "type(gdf)"
   ]
  },
  {
   "cell_type": "code",
   "execution_count": 6,
   "metadata": {},
   "outputs": [],
   "source": [
    "# gdf.plot(column='Name', figsize=(25,25))"
   ]
  },
  {
   "cell_type": "markdown",
   "metadata": {},
   "source": [
    "----\n",
    "\n",
    "We open the file that we cleaned before with all the information:"
   ]
  },
  {
   "cell_type": "code",
   "execution_count": 7,
   "metadata": {},
   "outputs": [
    {
     "data": {
      "text/html": [
       "<div>\n",
       "<style scoped>\n",
       "    .dataframe tbody tr th:only-of-type {\n",
       "        vertical-align: middle;\n",
       "    }\n",
       "\n",
       "    .dataframe tbody tr th {\n",
       "        vertical-align: top;\n",
       "    }\n",
       "\n",
       "    .dataframe thead th {\n",
       "        text-align: right;\n",
       "    }\n",
       "</style>\n",
       "<table border=\"1\" class=\"dataframe\">\n",
       "  <thead>\n",
       "    <tr style=\"text-align: right;\">\n",
       "      <th></th>\n",
       "      <th>id_tramo</th>\n",
       "      <th>id_vial</th>\n",
       "      <th>id_code</th>\n",
       "      <th>via_code</th>\n",
       "      <th>via_name</th>\n",
       "      <th>clase_code</th>\n",
       "      <th>clase_deno</th>\n",
       "      <th>clase_name</th>\n",
       "      <th>tramo_code</th>\n",
       "      <th>tramo_name</th>\n",
       "      <th>...</th>\n",
       "      <th>estado_name</th>\n",
       "      <th>vehic_code</th>\n",
       "      <th>vehic_name</th>\n",
       "      <th>orden_code</th>\n",
       "      <th>orden_name</th>\n",
       "      <th>district_code</th>\n",
       "      <th>district_name</th>\n",
       "      <th>shp_avg_width</th>\n",
       "      <th>shp_log_width</th>\n",
       "      <th>geometry</th>\n",
       "    </tr>\n",
       "  </thead>\n",
       "  <tbody>\n",
       "    <tr>\n",
       "      <th>0</th>\n",
       "      <td>280790192099</td>\n",
       "      <td>600000000158</td>\n",
       "      <td>56057</td>\n",
       "      <td>1000</td>\n",
       "      <td>carretera</td>\n",
       "      <td>1002</td>\n",
       "      <td>autovía</td>\n",
       "      <td>m-13</td>\n",
       "      <td>1</td>\n",
       "      <td>troncal</td>\n",
       "      <td>...</td>\n",
       "      <td>en_uso</td>\n",
       "      <td>001</td>\n",
       "      <td>solo_vehículo</td>\n",
       "      <td>p</td>\n",
       "      <td>principal</td>\n",
       "      <td>079 - 21</td>\n",
       "      <td>barajas</td>\n",
       "      <td>7.26</td>\n",
       "      <td>1.982380</td>\n",
       "      <td>MULTILINESTRING Z ((-3.57465 40.47525 599.7150...</td>\n",
       "    </tr>\n",
       "    <tr>\n",
       "      <th>1</th>\n",
       "      <td>280790192099</td>\n",
       "      <td>600000000158</td>\n",
       "      <td>56057</td>\n",
       "      <td>1000</td>\n",
       "      <td>carretera</td>\n",
       "      <td>1002</td>\n",
       "      <td>autovía</td>\n",
       "      <td>m-13</td>\n",
       "      <td>1</td>\n",
       "      <td>troncal</td>\n",
       "      <td>...</td>\n",
       "      <td>en_uso</td>\n",
       "      <td>001</td>\n",
       "      <td>solo_vehículo</td>\n",
       "      <td>p</td>\n",
       "      <td>principal</td>\n",
       "      <td>079 - 21</td>\n",
       "      <td>barajas</td>\n",
       "      <td>8.47</td>\n",
       "      <td>2.136531</td>\n",
       "      <td>MULTILINESTRING Z ((-3.57465 40.47525 599.7150...</td>\n",
       "    </tr>\n",
       "  </tbody>\n",
       "</table>\n",
       "<p>2 rows × 32 columns</p>\n",
       "</div>"
      ],
      "text/plain": [
       "       id_tramo       id_vial id_code  via_code   via_name  clase_code  \\\n",
       "0  280790192099  600000000158   56057      1000  carretera        1002   \n",
       "1  280790192099  600000000158   56057      1000  carretera        1002   \n",
       "\n",
       "  clase_deno clase_name  tramo_code tramo_name  ...  estado_name vehic_code  \\\n",
       "0    autovía       m-13           1    troncal  ...       en_uso        001   \n",
       "1    autovía       m-13           1    troncal  ...       en_uso        001   \n",
       "\n",
       "      vehic_name orden_code  orden_name district_code district_name  \\\n",
       "0  solo_vehículo          p   principal      079 - 21       barajas   \n",
       "1  solo_vehículo          p   principal      079 - 21       barajas   \n",
       "\n",
       "   shp_avg_width shp_log_width  \\\n",
       "0           7.26      1.982380   \n",
       "1           8.47      2.136531   \n",
       "\n",
       "                                            geometry  \n",
       "0  MULTILINESTRING Z ((-3.57465 40.47525 599.7150...  \n",
       "1  MULTILINESTRING Z ((-3.57465 40.47525 599.7150...  \n",
       "\n",
       "[2 rows x 32 columns]"
      ]
     },
     "execution_count": 7,
     "metadata": {},
     "output_type": "execute_result"
    }
   ],
   "source": [
    "v = gpd.read_file(\"../data/base_data/viario_ejes.gpkg\")\n",
    "v.head(2)"
   ]
  },
  {
   "cell_type": "code",
   "execution_count": 8,
   "metadata": {},
   "outputs": [
    {
     "name": "stderr",
     "output_type": "stream",
     "text": [
      "/tmp/ipykernel_4838/597578833.py:3: UserWarning: Geometry is in a geographic CRS. Results from 'centroid' are likely incorrect. Use 'GeoSeries.to_crs()' to re-project geometries to a projected CRS before this operation.\n",
      "\n",
      "  pt['geometry'] = pt.geometry.centroid\n",
      "/home/laura/miniconda3/envs/base_env/lib/python3.9/site-packages/geopandas/geodataframe.py:1351: SettingWithCopyWarning: \n",
      "A value is trying to be set on a copy of a slice from a DataFrame.\n",
      "Try using .loc[row_indexer,col_indexer] = value instead\n",
      "\n",
      "See the caveats in the documentation: https://pandas.pydata.org/pandas-docs/stable/user_guide/indexing.html#returning-a-view-versus-a-copy\n",
      "  super().__setitem__(key, value)\n"
     ]
    },
    {
     "data": {
      "text/plain": [
       "{None,\n",
       " 'contains',\n",
       " 'contains_properly',\n",
       " 'covers',\n",
       " 'crosses',\n",
       " 'intersects',\n",
       " 'overlaps',\n",
       " 'touches',\n",
       " 'within'}"
      ]
     },
     "execution_count": 8,
     "metadata": {},
     "output_type": "execute_result"
    }
   ],
   "source": [
    "# vamos a sacar los puntos medios y quedarnos sólo con las tres primeras columnas, para aligerar el pegado espacial\n",
    "pt = v[['id_tramo', 'id_vial', 'id_code', 'geometry']]\n",
    "pt['geometry'] = pt.geometry.centroid\n",
    "\n",
    "pt.sindex.valid_query_predicates"
   ]
  },
  {
   "cell_type": "code",
   "execution_count": 9,
   "metadata": {},
   "outputs": [
    {
     "data": {
      "text/plain": [
       "Itinerario recomendado                   13685\n",
       "Senda peatonal ciclable                   3895\n",
       "Ciclocarril                               3029\n",
       "Carril bici unidireccional en calzada     2367\n",
       "Ciclocarril+carril bus                    2232\n",
       "Calle 20                                  1153\n",
       "Name: cyclist_type, dtype: int64"
      ]
     },
     "execution_count": 9,
     "metadata": {},
     "output_type": "execute_result"
    }
   ],
   "source": [
    "pt = gpd.sjoin(pt, gdf, how = 'left', predicate='within')\n",
    "pt.drop(columns=['geometry', 'index_right'], inplace=True)\n",
    "pt.dropna(axis=0, inplace=True)\n",
    "\n",
    "pt.rename(columns={'Name': 'cyclist_type'}, inplace=True)\n",
    "pt['cyclist_type'].value_counts()"
   ]
  },
  {
   "cell_type": "code",
   "execution_count": 10,
   "metadata": {},
   "outputs": [
    {
     "data": {
      "text/html": [
       "<div>\n",
       "<style scoped>\n",
       "    .dataframe tbody tr th:only-of-type {\n",
       "        vertical-align: middle;\n",
       "    }\n",
       "\n",
       "    .dataframe tbody tr th {\n",
       "        vertical-align: top;\n",
       "    }\n",
       "\n",
       "    .dataframe thead th {\n",
       "        text-align: right;\n",
       "    }\n",
       "</style>\n",
       "<table border=\"1\" class=\"dataframe\">\n",
       "  <thead>\n",
       "    <tr style=\"text-align: right;\">\n",
       "      <th></th>\n",
       "      <th>id_tramo</th>\n",
       "      <th>id_vial</th>\n",
       "      <th>id_code</th>\n",
       "      <th>cyclist_type</th>\n",
       "    </tr>\n",
       "  </thead>\n",
       "  <tbody>\n",
       "    <tr>\n",
       "      <th>74</th>\n",
       "      <td>280790244489</td>\n",
       "      <td>661022100004</td>\n",
       "      <td>22100004</td>\n",
       "      <td>Carril bici unidireccional en calzada</td>\n",
       "    </tr>\n",
       "    <tr>\n",
       "      <th>141</th>\n",
       "      <td>280790243905</td>\n",
       "      <td>661022100004</td>\n",
       "      <td>22100004</td>\n",
       "      <td>Carril bici unidireccional en calzada</td>\n",
       "    </tr>\n",
       "    <tr>\n",
       "      <th>189</th>\n",
       "      <td>280790134931</td>\n",
       "      <td>280790002846</td>\n",
       "      <td>2807910590</td>\n",
       "      <td>Itinerario recomendado</td>\n",
       "    </tr>\n",
       "    <tr>\n",
       "      <th>190</th>\n",
       "      <td>280790134931</td>\n",
       "      <td>280790002846</td>\n",
       "      <td>2807910590</td>\n",
       "      <td>Itinerario recomendado</td>\n",
       "    </tr>\n",
       "    <tr>\n",
       "      <th>200</th>\n",
       "      <td>280790029249</td>\n",
       "      <td>280790007375</td>\n",
       "      <td>2807900250</td>\n",
       "      <td>Itinerario recomendado</td>\n",
       "    </tr>\n",
       "  </tbody>\n",
       "</table>\n",
       "</div>"
      ],
      "text/plain": [
       "         id_tramo       id_vial     id_code  \\\n",
       "74   280790244489  661022100004    22100004   \n",
       "141  280790243905  661022100004    22100004   \n",
       "189  280790134931  280790002846  2807910590   \n",
       "190  280790134931  280790002846  2807910590   \n",
       "200  280790029249  280790007375  2807900250   \n",
       "\n",
       "                              cyclist_type  \n",
       "74   Carril bici unidireccional en calzada  \n",
       "141  Carril bici unidireccional en calzada  \n",
       "189                 Itinerario recomendado  \n",
       "190                 Itinerario recomendado  \n",
       "200                 Itinerario recomendado  "
      ]
     },
     "execution_count": 10,
     "metadata": {},
     "output_type": "execute_result"
    }
   ],
   "source": [
    "pt.head()"
   ]
  },
  {
   "cell_type": "code",
   "execution_count": 11,
   "metadata": {},
   "outputs": [
    {
     "data": {
      "text/html": [
       "<div>\n",
       "<style scoped>\n",
       "    .dataframe tbody tr th:only-of-type {\n",
       "        vertical-align: middle;\n",
       "    }\n",
       "\n",
       "    .dataframe tbody tr th {\n",
       "        vertical-align: top;\n",
       "    }\n",
       "\n",
       "    .dataframe thead th {\n",
       "        text-align: right;\n",
       "    }\n",
       "</style>\n",
       "<table border=\"1\" class=\"dataframe\">\n",
       "  <thead>\n",
       "    <tr style=\"text-align: right;\">\n",
       "      <th></th>\n",
       "      <th>id_tramo</th>\n",
       "      <th>id_vial</th>\n",
       "      <th>id_code</th>\n",
       "      <th>via_code</th>\n",
       "      <th>via_name</th>\n",
       "      <th>clase_code</th>\n",
       "      <th>clase_deno</th>\n",
       "      <th>clase_name</th>\n",
       "      <th>tramo_code</th>\n",
       "      <th>tramo_name</th>\n",
       "      <th>...</th>\n",
       "      <th>vehic_code</th>\n",
       "      <th>vehic_name</th>\n",
       "      <th>orden_code</th>\n",
       "      <th>orden_name</th>\n",
       "      <th>district_code</th>\n",
       "      <th>district_name</th>\n",
       "      <th>shp_avg_width</th>\n",
       "      <th>shp_log_width</th>\n",
       "      <th>geometry</th>\n",
       "      <th>cyclist_type</th>\n",
       "    </tr>\n",
       "  </thead>\n",
       "  <tbody>\n",
       "    <tr>\n",
       "      <th>0</th>\n",
       "      <td>280790244489</td>\n",
       "      <td>661022100004</td>\n",
       "      <td>22100004</td>\n",
       "      <td>4005</td>\n",
       "      <td>red_ten-t</td>\n",
       "      <td>1002</td>\n",
       "      <td>autovía</td>\n",
       "      <td>básica_corredor_mixto</td>\n",
       "      <td>1</td>\n",
       "      <td>troncal</td>\n",
       "      <td>...</td>\n",
       "      <td>001</td>\n",
       "      <td>solo_vehículo</td>\n",
       "      <td>p</td>\n",
       "      <td>principal</td>\n",
       "      <td>079 - 18</td>\n",
       "      <td>villa de vallecas</td>\n",
       "      <td>10.18</td>\n",
       "      <td>2.320425</td>\n",
       "      <td>MULTILINESTRING Z ((-3.63923 40.32720 565.6000...</td>\n",
       "      <td>Carril bici unidireccional en calzada</td>\n",
       "    </tr>\n",
       "    <tr>\n",
       "      <th>1</th>\n",
       "      <td>280790243905</td>\n",
       "      <td>661022100004</td>\n",
       "      <td>22100004</td>\n",
       "      <td>4005</td>\n",
       "      <td>red_ten-t</td>\n",
       "      <td>1002</td>\n",
       "      <td>autovía</td>\n",
       "      <td>básica_corredor_mixto</td>\n",
       "      <td>1</td>\n",
       "      <td>troncal</td>\n",
       "      <td>...</td>\n",
       "      <td>001</td>\n",
       "      <td>solo_vehículo</td>\n",
       "      <td>p</td>\n",
       "      <td>principal</td>\n",
       "      <td>079 - 18</td>\n",
       "      <td>villa de vallecas</td>\n",
       "      <td>10.18</td>\n",
       "      <td>2.320425</td>\n",
       "      <td>MULTILINESTRING Z ((-3.63921 40.32750 566.5000...</td>\n",
       "      <td>Carril bici unidireccional en calzada</td>\n",
       "    </tr>\n",
       "    <tr>\n",
       "      <th>2</th>\n",
       "      <td>280790134931</td>\n",
       "      <td>280790002846</td>\n",
       "      <td>2807910590</td>\n",
       "      <td>2122</td>\n",
       "      <td>calle</td>\n",
       "      <td>2000</td>\n",
       "      <td>urbano</td>\n",
       "      <td>joaquin_bau</td>\n",
       "      <td>1</td>\n",
       "      <td>troncal</td>\n",
       "      <td>...</td>\n",
       "      <td>111</td>\n",
       "      <td>peatón_+_bici_+_vehículo</td>\n",
       "      <td>-998</td>\n",
       "      <td>no_aplicable</td>\n",
       "      <td>079 - 05</td>\n",
       "      <td>chamartin</td>\n",
       "      <td>12.09</td>\n",
       "      <td>2.492379</td>\n",
       "      <td>MULTILINESTRING Z ((-3.68675 40.46327 723.6000...</td>\n",
       "      <td>Itinerario recomendado</td>\n",
       "    </tr>\n",
       "    <tr>\n",
       "      <th>3</th>\n",
       "      <td>280790134931</td>\n",
       "      <td>280790002846</td>\n",
       "      <td>2807910590</td>\n",
       "      <td>2122</td>\n",
       "      <td>calle</td>\n",
       "      <td>2000</td>\n",
       "      <td>urbano</td>\n",
       "      <td>joaquin_bau</td>\n",
       "      <td>1</td>\n",
       "      <td>troncal</td>\n",
       "      <td>...</td>\n",
       "      <td>111</td>\n",
       "      <td>peatón_+_bici_+_vehículo</td>\n",
       "      <td>-998</td>\n",
       "      <td>no_aplicable</td>\n",
       "      <td>079 - 05</td>\n",
       "      <td>chamartin</td>\n",
       "      <td>12.09</td>\n",
       "      <td>2.492379</td>\n",
       "      <td>MULTILINESTRING Z ((-3.68675 40.46327 723.6000...</td>\n",
       "      <td>Itinerario recomendado</td>\n",
       "    </tr>\n",
       "    <tr>\n",
       "      <th>4</th>\n",
       "      <td>280790134931</td>\n",
       "      <td>280790002846</td>\n",
       "      <td>2807910590</td>\n",
       "      <td>2122</td>\n",
       "      <td>calle</td>\n",
       "      <td>2000</td>\n",
       "      <td>urbano</td>\n",
       "      <td>joaquin_bau</td>\n",
       "      <td>1</td>\n",
       "      <td>troncal</td>\n",
       "      <td>...</td>\n",
       "      <td>111</td>\n",
       "      <td>peatón_+_bici_+_vehículo</td>\n",
       "      <td>-998</td>\n",
       "      <td>no_aplicable</td>\n",
       "      <td>079 - 05</td>\n",
       "      <td>chamartin</td>\n",
       "      <td>6.65</td>\n",
       "      <td>1.894617</td>\n",
       "      <td>MULTILINESTRING Z ((-3.68675 40.46327 723.6000...</td>\n",
       "      <td>Itinerario recomendado</td>\n",
       "    </tr>\n",
       "  </tbody>\n",
       "</table>\n",
       "<p>5 rows × 33 columns</p>\n",
       "</div>"
      ],
      "text/plain": [
       "       id_tramo       id_vial     id_code  via_code   via_name  clase_code  \\\n",
       "0  280790244489  661022100004    22100004      4005  red_ten-t        1002   \n",
       "1  280790243905  661022100004    22100004      4005  red_ten-t        1002   \n",
       "2  280790134931  280790002846  2807910590      2122      calle        2000   \n",
       "3  280790134931  280790002846  2807910590      2122      calle        2000   \n",
       "4  280790134931  280790002846  2807910590      2122      calle        2000   \n",
       "\n",
       "  clase_deno             clase_name  tramo_code tramo_name  ...  vehic_code  \\\n",
       "0    autovía  básica_corredor_mixto           1    troncal  ...         001   \n",
       "1    autovía  básica_corredor_mixto           1    troncal  ...         001   \n",
       "2     urbano            joaquin_bau           1    troncal  ...         111   \n",
       "3     urbano            joaquin_bau           1    troncal  ...         111   \n",
       "4     urbano            joaquin_bau           1    troncal  ...         111   \n",
       "\n",
       "                 vehic_name  orden_code    orden_name  district_code  \\\n",
       "0             solo_vehículo           p     principal       079 - 18   \n",
       "1             solo_vehículo           p     principal       079 - 18   \n",
       "2  peatón_+_bici_+_vehículo        -998  no_aplicable       079 - 05   \n",
       "3  peatón_+_bici_+_vehículo        -998  no_aplicable       079 - 05   \n",
       "4  peatón_+_bici_+_vehículo        -998  no_aplicable       079 - 05   \n",
       "\n",
       "       district_name shp_avg_width  shp_log_width  \\\n",
       "0  villa de vallecas         10.18       2.320425   \n",
       "1  villa de vallecas         10.18       2.320425   \n",
       "2          chamartin         12.09       2.492379   \n",
       "3          chamartin         12.09       2.492379   \n",
       "4          chamartin          6.65       1.894617   \n",
       "\n",
       "                                            geometry  \\\n",
       "0  MULTILINESTRING Z ((-3.63923 40.32720 565.6000...   \n",
       "1  MULTILINESTRING Z ((-3.63921 40.32750 566.5000...   \n",
       "2  MULTILINESTRING Z ((-3.68675 40.46327 723.6000...   \n",
       "3  MULTILINESTRING Z ((-3.68675 40.46327 723.6000...   \n",
       "4  MULTILINESTRING Z ((-3.68675 40.46327 723.6000...   \n",
       "\n",
       "                            cyclist_type  \n",
       "0  Carril bici unidireccional en calzada  \n",
       "1  Carril bici unidireccional en calzada  \n",
       "2                 Itinerario recomendado  \n",
       "3                 Itinerario recomendado  \n",
       "4                 Itinerario recomendado  \n",
       "\n",
       "[5 rows x 33 columns]"
      ]
     },
     "execution_count": 11,
     "metadata": {},
     "output_type": "execute_result"
    }
   ],
   "source": [
    "v = v.merge(pt, left_on = ['id_tramo', 'id_vial', 'id_code'], right_on = ['id_tramo', 'id_vial', 'id_code'])\n",
    "v.head()"
   ]
  },
  {
   "cell_type": "code",
   "execution_count": 12,
   "metadata": {},
   "outputs": [],
   "source": [
    "v.to_file(\"../data/base_data/viario_ejes_02.gpkg\")"
   ]
  },
  {
   "cell_type": "markdown",
   "metadata": {},
   "source": [
    "---\n",
    "\n",
    "Once we have that, we open the axis of cyclist infrastructure provided by Madrid's Data Bank"
   ]
  },
  {
   "cell_type": "code",
   "execution_count": 13,
   "metadata": {},
   "outputs": [
    {
     "data": {
      "text/plain": [
       "(52295, 34)"
      ]
     },
     "execution_count": 13,
     "metadata": {},
     "output_type": "execute_result"
    }
   ],
   "source": [
    "bici = gpd.read_file(\"../data/bici_data/bici_ejes.gpkg\")\n",
    "bici.shape"
   ]
  },
  {
   "cell_type": "code",
   "execution_count": 14,
   "metadata": {},
   "outputs": [
    {
     "data": {
      "text/plain": [
       "Index(['id_tramo', 'id_vial', 'id_code', 'via_code', 'via_name', 'clase_code',\n",
       "       'clase_deno', 'clase_name', 'tramo_code', 'tramo_name', 'calzada_code',\n",
       "       'calzada_name', 'access_code', 'access_name', 'firme_code',\n",
       "       'firme_name', 'ncarriles_code', 'sentido_code', 'sentido_name',\n",
       "       'situacion_code', 'situacion_name', 'estado_code', 'estado_name',\n",
       "       'vehic_code', 'vehic_name', 'orden_code', 'orden_name', 'district_code',\n",
       "       'district_name', 'shp_avg_width', 'shp_log_width', 'cyclist_type',\n",
       "       'length', 'geometry'],\n",
       "      dtype='object')"
      ]
     },
     "execution_count": 14,
     "metadata": {},
     "output_type": "execute_result"
    }
   ],
   "source": [
    "bici.columns"
   ]
  },
  {
   "cell_type": "code",
   "execution_count": 15,
   "metadata": {},
   "outputs": [
    {
     "data": {
      "text/plain": [
       "(117616, 32)"
      ]
     },
     "execution_count": 15,
     "metadata": {},
     "output_type": "execute_result"
    }
   ],
   "source": [
    "v = gpd.read_file(\"../data/base_data/viario_ejes.gpkg\")\n",
    "v.shape"
   ]
  },
  {
   "cell_type": "code",
   "execution_count": 16,
   "metadata": {},
   "outputs": [
    {
     "data": {
      "text/plain": [
       "(117616, 4)"
      ]
     },
     "execution_count": 16,
     "metadata": {},
     "output_type": "execute_result"
    }
   ],
   "source": [
    "v.set_index(v.columns.tolist()[:-4]).shape"
   ]
  },
  {
   "cell_type": "code",
   "execution_count": 17,
   "metadata": {},
   "outputs": [],
   "source": [
    "\n",
    "index_columns = ['id_tramo', 'id_vial', 'id_code', 'via_code', 'clase_code', 'access_code', 'district_code', 'shp_avg_width']\n",
    "\n",
    "f = v.set_index(index_columns).join(\n",
    "    bici.set_index(index_columns)[['cyclist_type']], \n",
    "    on=index_columns, \n",
    "    how='left'\n",
    "    ).reset_index(drop=False)"
   ]
  },
  {
   "cell_type": "code",
   "execution_count": 18,
   "metadata": {},
   "outputs": [
    {
     "data": {
      "text/plain": [
       "(150783, 33)"
      ]
     },
     "execution_count": 18,
     "metadata": {},
     "output_type": "execute_result"
    }
   ],
   "source": [
    "f.shape"
   ]
  },
  {
   "cell_type": "code",
   "execution_count": 20,
   "metadata": {},
   "outputs": [],
   "source": [
    "f.to_file(\"../data/base_data/viario_ejes_04.gpkg\")"
   ]
  }
 ],
 "metadata": {
  "interpreter": {
   "hash": "1302938f4a3dc39399803c7035366ff4cf12756e5c35270a54e13e6e227d2c21"
  },
  "kernelspec": {
   "display_name": "Python 3.9.7 ('base_env')",
   "language": "python",
   "name": "python3"
  },
  "language_info": {
   "codemirror_mode": {
    "name": "ipython",
    "version": 3
   },
   "file_extension": ".py",
   "mimetype": "text/x-python",
   "name": "python",
   "nbconvert_exporter": "python",
   "pygments_lexer": "ipython3",
   "version": "3.9.7"
  },
  "orig_nbformat": 4
 },
 "nbformat": 4,
 "nbformat_minor": 2
}
